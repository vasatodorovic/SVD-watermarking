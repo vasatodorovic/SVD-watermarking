{
 "cells": [
  {
   "cell_type": "code",
   "execution_count": 12,
   "id": "d4f9172c",
   "metadata": {},
   "outputs": [],
   "source": [
    "import numpy as np\n",
    "from PIL import Image\n",
    "import random"
   ]
  },
  {
   "cell_type": "code",
   "execution_count": 13,
   "id": "4d37ccb5",
   "metadata": {},
   "outputs": [],
   "source": [
    "def load_and_scale_images(image_path, watermark_path):\n",
    "    image = Image.open(image_path).convert('L')  \n",
    "    image = image.resize((512, 512))\n",
    "    \n",
    "    image_array = np.array(image)\n",
    "    \n",
    "    watermark = Image.open(watermark_path).convert('L')\n",
    "    watermark = watermark.resize((32, 32))\n",
    "    watermark_array = np.array(watermark) > 128  \n",
    "    \n",
    "    return image_array, watermark_array, image, watermark"
   ]
  },
  {
   "cell_type": "code",
   "execution_count": 14,
   "id": "417f920e",
   "metadata": {},
   "outputs": [],
   "source": [
    "img_array,wtr_array,img,wtr=load_and_scale_images('lena.png','watermark_image.webp')"
   ]
  },
  {
   "cell_type": "code",
   "execution_count": 15,
   "id": "9a499c05",
   "metadata": {},
   "outputs": [],
   "source": [
    "wtr.save('watermark_32x32.png')"
   ]
  },
  {
   "cell_type": "code",
   "execution_count": 16,
   "id": "72a63942",
   "metadata": {},
   "outputs": [],
   "source": [
    "blocks = []\n",
    "original_indices = []\n",
    "complexity_scores = []"
   ]
  },
  {
   "cell_type": "code",
   "execution_count": 38,
   "id": "5b042222",
   "metadata": {},
   "outputs": [],
   "source": [
    "def svd_decomposition(image_array, block_size=8):\n",
    "    for i in range(0, image_array.shape[0], block_size):\n",
    "        for j in range(0, image_array.shape[1], block_size):\n",
    "            block = image_array[i:i+block_size, j:j+block_size]\n",
    "\n",
    "            U, D, Vt = np.linalg.svd(block)\n",
    "            \n",
    "            complexity_score = np.sum(D ** 2)\n",
    "            blocks.append((U, D, Vt))\n",
    "            original_indices.append((i, j))\n",
    "            complexity_scores.append(complexity_score)\n",
    "            #print(f\"Block ({i}, {j}): {complexity_score}\")\n",
    "    \n",
    "    threshold = np.percentile(complexity_scores,95)\n",
    " \n",
    "    complex_blocks = [(blocks[idx], original_indices[idx]) for idx, score in enumerate(complexity_scores) if score >= threshold]\n",
    "    \n",
    "    return complex_blocks"
   ]
  },
  {
   "cell_type": "code",
   "execution_count": 39,
   "id": "7631b0a9",
   "metadata": {},
   "outputs": [],
   "source": [
    "cb=svd_decomposition(img_array)"
   ]
  },
  {
   "cell_type": "code",
   "execution_count": 40,
   "id": "bdc4ea35",
   "metadata": {},
   "outputs": [
    {
     "data": {
      "text/plain": [
       "1640"
      ]
     },
     "execution_count": 40,
     "metadata": {},
     "output_type": "execute_result"
    }
   ],
   "source": [
    "len(cb)"
   ]
  },
  {
   "cell_type": "code",
   "execution_count": 10,
   "id": "ebf1ab41",
   "metadata": {},
   "outputs": [],
   "source": [
    "b0=[]\n",
    "def embed_watermark_in_blocks(complex_blocks, watermark_array, seed=42,threshold=0.01):\n",
    "    random.seed(seed)\n",
    "    watermark_bits = watermark_array.flatten()\n",
    "    \n",
    "    for bit in watermark_bits:\n",
    "        block_idx = random.randint(0, len(complex_blocks) - 1)\n",
    "        b0.append(block_idx)\n",
    "        (U, D, Vt), (i, j) = complex_blocks[block_idx]\n",
    "        \n",
    "        if bit == 1:\n",
    "            if U[0, 0] <= U[1, 0]: \n",
    "                U[0, 0] += 5e-2\n",
    "                U[1, 0] -= 5e-2\n",
    "            \n",
    "            if U[0, 0] - U[1, 0] < threshold:\n",
    "                U[0, 0] += threshold / 2\n",
    "                U[1, 0] -= threshold / 2\n",
    "        \n",
    "        else:\n",
    "            if U[0, 0] >= U[1, 0]: \n",
    "                U[0, 0] -= 5e-2\n",
    "                U[1, 0] += 5e-2\n",
    "            \n",
    "            if U[1, 0] - U[0, 0] < threshold:\n",
    "                U[0, 0] -= threshold / 2\n",
    "                U[1, 0] += threshold / 2\n",
    "    \n",
    "        complex_blocks[block_idx] = (U, D, Vt), (i, j)\n",
    "    \n",
    "    return complex_blocks"
   ]
  },
  {
   "cell_type": "code",
   "execution_count": 11,
   "id": "1ecb1cb9",
   "metadata": {},
   "outputs": [],
   "source": [
    "def reconstruct_image(blocks, original_indices, block_size=8):\n",
    "    reconstructed_image = np.zeros((512, 512))\n",
    "    \n",
    "    for (U, D, Vt), (i, j) in zip(blocks, original_indices):\n",
    "        reconstructed_block = np.dot(U, np.dot(np.diag(D), Vt))\n",
    "        reconstructed_image[i:i+block_size, j:j+block_size] = reconstructed_block\n",
    "    \n",
    "    return reconstructed_image"
   ]
  },
  {
   "cell_type": "code",
   "execution_count": null,
   "id": "266de964",
   "metadata": {},
   "outputs": [],
   "source": []
  }
 ],
 "metadata": {
  "kernelspec": {
   "display_name": "Python 3 (ipykernel)",
   "language": "python",
   "name": "python3"
  },
  "language_info": {
   "codemirror_mode": {
    "name": "ipython",
    "version": 3
   },
   "file_extension": ".py",
   "mimetype": "text/x-python",
   "name": "python",
   "nbconvert_exporter": "python",
   "pygments_lexer": "ipython3",
   "version": "3.10.3"
  }
 },
 "nbformat": 4,
 "nbformat_minor": 5
}
