{
 "cells": [
  {
   "cell_type": "code",
   "execution_count": 1,
   "id": "d4f9172c",
   "metadata": {},
   "outputs": [],
   "source": [
    "import numpy as np\n",
    "from PIL import Image\n",
    "import random"
   ]
  },
  {
   "cell_type": "code",
   "execution_count": 2,
   "id": "4d37ccb5",
   "metadata": {},
   "outputs": [],
   "source": [
    "def load_and_scale_images(image_path, watermark_path):\n",
    "    image = Image.open(image_path).convert('L')  \n",
    "    image = image.resize((512, 512))\n",
    "    \n",
    "    image_array = np.array(image)\n",
    "    \n",
    "    watermark = Image.open(watermark_path).convert('L')\n",
    "    watermark = watermark.resize((32, 32))\n",
    "    watermark_array = np.array(watermark) > 128  \n",
    "    \n",
    "    return image_array, watermark_array, image, watermark"
   ]
  },
  {
   "cell_type": "code",
   "execution_count": 3,
   "id": "417f920e",
   "metadata": {},
   "outputs": [],
   "source": [
    "img_array,wtr_array,img,wtr=load_and_scale_images('lena.png','watermark_image.webp')"
   ]
  },
  {
   "cell_type": "code",
   "execution_count": 4,
   "id": "9a499c05",
   "metadata": {},
   "outputs": [],
   "source": [
    "wtr.save('watermark_32x32.png')"
   ]
  },
  {
   "cell_type": "code",
   "execution_count": 5,
   "id": "72a63942",
   "metadata": {},
   "outputs": [],
   "source": [
    "blocks = []\n",
    "original_indices = []\n",
    "complexity_scores = []"
   ]
  },
  {
   "cell_type": "code",
   "execution_count": 6,
   "id": "5b042222",
   "metadata": {},
   "outputs": [],
   "source": [
    "def svd_decomposition(image_array, block_size=8):\n",
    "    for i in range(0, image_array.shape[0], block_size):\n",
    "        for j in range(0, image_array.shape[1], block_size):\n",
    "            block = image_array[i:i+block_size, j:j+block_size]\n",
    "\n",
    "            U, D, Vt = np.linalg.svd(block)\n",
    "            \n",
    "            complexity_score = np.sum(D ** 2)\n",
    "            blocks.append((U, D, Vt))\n",
    "            original_indices.append((i, j))\n",
    "            complexity_scores.append(complexity_score)\n",
    "            #print(f\"Block ({i}, {j}): {complexity_score}\")\n",
    "    \n",
    "    threshold = np.percentile(complexity_scores,70)\n",
    " \n",
    "    complex_blocks = [(blocks[idx], original_indices[idx]) for idx, score in enumerate(complexity_scores) if score >= threshold]\n",
    "    \n",
    "    return complex_blocks"
   ]
  },
  {
   "cell_type": "code",
   "execution_count": 7,
   "id": "7631b0a9",
   "metadata": {},
   "outputs": [],
   "source": [
    "cb=svd_decomposition(img_array)"
   ]
  },
  {
   "cell_type": "code",
   "execution_count": 8,
   "id": "bdc4ea35",
   "metadata": {},
   "outputs": [
    {
     "data": {
      "text/plain": [
       "1229"
      ]
     },
     "execution_count": 8,
     "metadata": {},
     "output_type": "execute_result"
    }
   ],
   "source": [
    "len(cb)"
   ]
  },
  {
   "cell_type": "code",
   "execution_count": 9,
   "id": "ebf1ab41",
   "metadata": {},
   "outputs": [],
   "source": [
    "b0=[]\n",
    "def embed_watermark_in_blocks(complex_blocks, watermark_array, seed=42,threshold=0.01):\n",
    "    random.seed(seed)\n",
    "    watermark_bits = watermark_array.flatten()\n",
    "    \n",
    "    for bit in watermark_bits:\n",
    "        block_idx = random.randint(0, len(complex_blocks) - 1)\n",
    "        b0.append(block_idx)\n",
    "        (U, D, Vt), (i, j) = complex_blocks[block_idx]\n",
    "        \n",
    "        if bit == 1:\n",
    "            if U[0, 0] <= U[1, 0]: \n",
    "                U[0, 0] += 5e-2\n",
    "                U[1, 0] -= 5e-2\n",
    "            \n",
    "            if U[0, 0] - U[1, 0] < threshold:\n",
    "                U[0, 0] += threshold / 2\n",
    "                U[1, 0] -= threshold / 2\n",
    "        \n",
    "        else:\n",
    "            if U[0, 0] >= U[1, 0]: \n",
    "                U[0, 0] -= 5e-2\n",
    "                U[1, 0] += 5e-2\n",
    "            \n",
    "            if U[1, 0] - U[0, 0] < threshold:\n",
    "                U[0, 0] -= threshold / 2\n",
    "                U[1, 0] += threshold / 2\n",
    "    \n",
    "        complex_blocks[block_idx] = (U, D, Vt), (i, j)\n",
    "    \n",
    "    return complex_blocks"
   ]
  },
  {
   "cell_type": "code",
   "execution_count": 10,
   "id": "1ecb1cb9",
   "metadata": {},
   "outputs": [],
   "source": [
    "def reconstruct_image(blocks, original_indices, block_size=8):\n",
    "    reconstructed_image = np.zeros((512, 512))\n",
    "    \n",
    "    for (U, D, Vt), (i, j) in zip(blocks, original_indices):\n",
    "        reconstructed_block = np.dot(U, np.dot(np.diag(D), Vt))\n",
    "        reconstructed_image[i:i+block_size, j:j+block_size] = reconstructed_block\n",
    "    \n",
    "    return reconstructed_image"
   ]
  },
  {
   "cell_type": "code",
   "execution_count": 11,
   "id": "266de964",
   "metadata": {},
   "outputs": [],
   "source": [
    "complex_blocks_with_watermark = embed_watermark_in_blocks(cb, wtr_array)"
   ]
  },
  {
   "cell_type": "code",
   "execution_count": 12,
   "id": "322c3cbc",
   "metadata": {},
   "outputs": [],
   "source": [
    "reconstructed_image = reconstruct_image(blocks, original_indices)"
   ]
  },
  {
   "cell_type": "code",
   "execution_count": 13,
   "id": "2607dcc0",
   "metadata": {},
   "outputs": [
    {
     "data": {
      "text/plain": [
       "(512, 512)"
      ]
     },
     "execution_count": 13,
     "metadata": {},
     "output_type": "execute_result"
    }
   ],
   "source": [
    "reconstructed_image.shape"
   ]
  },
  {
   "cell_type": "code",
   "execution_count": 14,
   "id": "cc443e71",
   "metadata": {},
   "outputs": [],
   "source": [
    "new_image = Image.fromarray(np.uint8(reconstructed_image))\n",
    "new_image.show()\n",
    "new_image.save('lena_watermarked.png')"
   ]
  },
  {
   "cell_type": "code",
   "execution_count": 15,
   "id": "bc898520",
   "metadata": {},
   "outputs": [],
   "source": [
    "b1 = []\n",
    "def extract_watermark_from_blocks(complex_blocks, watermark_size=(32, 32), seed=42):\n",
    "    random.seed(seed)\n",
    "    extracted_bits = []\n",
    "    num_bits = watermark_size[0] * watermark_size[1]\n",
    "    \n",
    "    for _ in range(num_bits):\n",
    "        \n",
    "        block_idx = random.randint(0, len(complex_blocks) - 1)\n",
    "        b1.append(block_idx)\n",
    "        (U, D, Vt), (i, j) = complex_blocks[block_idx]\n",
    "        \n",
    "        if U[0, 0] > U[1, 0]:\n",
    "            extracted_bits.append(1)\n",
    "        else:\n",
    "            extracted_bits.append(0)\n",
    "    \n",
    "    extracted_watermark = np.array(extracted_bits).reshape(watermark_size)\n",
    "    \n",
    "    return extracted_watermark"
   ]
  },
  {
   "cell_type": "code",
   "execution_count": 16,
   "id": "8db29c70-3f01-4e54-8987-65acd61cc2fa",
   "metadata": {},
   "outputs": [],
   "source": [
    "extracted_watermark = extract_watermark_from_blocks(cb)"
   ]
  },
  {
   "cell_type": "code",
   "execution_count": 17,
   "id": "2ce55aa7-7694-4255-bef7-0c2d5ea315d5",
   "metadata": {},
   "outputs": [],
   "source": [
    "extracted_image = Image.fromarray(np.uint8(extracted_watermark * 255))\n",
    "extracted_image.show()\n",
    "extracted_image.save('extracted_watermark.png')"
   ]
  },
  {
   "cell_type": "code",
   "execution_count": 18,
   "id": "5fce3d69-6a19-43d7-9ced-f4b09b96774d",
   "metadata": {},
   "outputs": [
    {
     "data": {
      "text/plain": [
       "True"
      ]
     },
     "execution_count": 18,
     "metadata": {},
     "output_type": "execute_result"
    }
   ],
   "source": [
    "len(b0) == len(b1)"
   ]
  }
 ],
 "metadata": {
  "kernelspec": {
   "display_name": "Python 3 (ipykernel)",
   "language": "python",
   "name": "python3"
  },
  "language_info": {
   "codemirror_mode": {
    "name": "ipython",
    "version": 3
   },
   "file_extension": ".py",
   "mimetype": "text/x-python",
   "name": "python",
   "nbconvert_exporter": "python",
   "pygments_lexer": "ipython3",
   "version": "3.10.3"
  }
 },
 "nbformat": 4,
 "nbformat_minor": 5
}
