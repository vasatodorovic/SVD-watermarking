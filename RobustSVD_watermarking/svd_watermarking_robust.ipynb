{
 "cells": [
  {
   "cell_type": "code",
   "execution_count": 1,
   "id": "dc19cffb-6198-48f3-bec0-81746b8e5043",
   "metadata": {},
   "outputs": [],
   "source": [
    "import numpy as np\n",
    "from PIL import Image\n",
    "import matplotlib as plt"
   ]
  },
  {
   "cell_type": "code",
   "execution_count": 2,
   "id": "98a6b440-2e4f-4940-b248-f4054d638a6b",
   "metadata": {},
   "outputs": [],
   "source": [
    "def load_and_scale_images(image_path, watermark_path):\n",
    "    image = Image.open(image_path).convert('L')  \n",
    "    image = image.resize((512, 512))\n",
    "    \n",
    "    image_array = np.array(image)\n",
    "    \n",
    "    watermark = Image.open(watermark_path).convert('L')\n",
    "    watermark = watermark.resize((32, 32))\n",
    "    watermark_array = np.array(watermark) > 128\n",
    "    watermark = Image.fromarray(watermark_array)\n",
    "    \n",
    "    return image_array, watermark_array, image, watermark"
   ]
  },
  {
   "cell_type": "code",
   "execution_count": 3,
   "id": "8ee36287-4ecd-47e1-b938-1e901f45933f",
   "metadata": {},
   "outputs": [
    {
     "ename": "FileNotFoundError",
     "evalue": "[Errno 2] No such file or directory: '/home/emilija/Desktop/SVD-watermarking/RobustSVD_watermarking/watermark.png'",
     "output_type": "error",
     "traceback": [
      "\u001b[0;31m---------------------------------------------------------------------------\u001b[0m",
      "\u001b[0;31mFileNotFoundError\u001b[0m                         Traceback (most recent call last)",
      "Cell \u001b[0;32mIn[3], line 1\u001b[0m\n\u001b[0;32m----> 1\u001b[0m image_array,watermark_array,input_image, watermark_image\u001b[38;5;241m=\u001b[39mload_and_scale_images(\u001b[38;5;124m'\u001b[39m\u001b[38;5;124mlena.png\u001b[39m\u001b[38;5;124m'\u001b[39m,\u001b[38;5;124m'\u001b[39m\u001b[38;5;124mwatermark.png\u001b[39m\u001b[38;5;124m'\u001b[39m)\n",
      "Cell \u001b[0;32mIn[2], line 7\u001b[0m, in \u001b[0;36mload_and_scale_images\u001b[0;34m(image_path, watermark_path)\u001b[0m\n\u001b[1;32m      3\u001b[0m image \u001b[38;5;241m=\u001b[39m image\u001b[38;5;241m.\u001b[39mresize((\u001b[38;5;241m512\u001b[39m, \u001b[38;5;241m512\u001b[39m))\n\u001b[1;32m      5\u001b[0m image_array \u001b[38;5;241m=\u001b[39m np\u001b[38;5;241m.\u001b[39marray(image)\n\u001b[0;32m----> 7\u001b[0m watermark \u001b[38;5;241m=\u001b[39m Image\u001b[38;5;241m.\u001b[39mopen(watermark_path)\u001b[38;5;241m.\u001b[39mconvert(\u001b[38;5;124m'\u001b[39m\u001b[38;5;124mL\u001b[39m\u001b[38;5;124m'\u001b[39m)\n\u001b[1;32m      8\u001b[0m watermark \u001b[38;5;241m=\u001b[39m watermark\u001b[38;5;241m.\u001b[39mresize((\u001b[38;5;241m32\u001b[39m, \u001b[38;5;241m32\u001b[39m))\n\u001b[1;32m      9\u001b[0m watermark_array \u001b[38;5;241m=\u001b[39m np\u001b[38;5;241m.\u001b[39marray(watermark) \u001b[38;5;241m>\u001b[39m \u001b[38;5;241m128\u001b[39m\n",
      "File \u001b[0;32m~/anaconda3/lib/python3.12/site-packages/PIL/Image.py:3277\u001b[0m, in \u001b[0;36mopen\u001b[0;34m(fp, mode, formats)\u001b[0m\n\u001b[1;32m   3274\u001b[0m     filename \u001b[38;5;241m=\u001b[39m os\u001b[38;5;241m.\u001b[39mpath\u001b[38;5;241m.\u001b[39mrealpath(os\u001b[38;5;241m.\u001b[39mfspath(fp))\n\u001b[1;32m   3276\u001b[0m \u001b[38;5;28;01mif\u001b[39;00m filename:\n\u001b[0;32m-> 3277\u001b[0m     fp \u001b[38;5;241m=\u001b[39m builtins\u001b[38;5;241m.\u001b[39mopen(filename, \u001b[38;5;124m\"\u001b[39m\u001b[38;5;124mrb\u001b[39m\u001b[38;5;124m\"\u001b[39m)\n\u001b[1;32m   3278\u001b[0m     exclusive_fp \u001b[38;5;241m=\u001b[39m \u001b[38;5;28;01mTrue\u001b[39;00m\n\u001b[1;32m   3280\u001b[0m \u001b[38;5;28;01mtry\u001b[39;00m:\n",
      "\u001b[0;31mFileNotFoundError\u001b[0m: [Errno 2] No such file or directory: '/home/emilija/Desktop/SVD-watermarking/RobustSVD_watermarking/watermark.png'"
     ]
    }
   ],
   "source": [
    "image_array,watermark_array,input_image, watermark_image=load_and_scale_images('lena.png','watermark.png')"
   ]
  },
  {
   "cell_type": "code",
   "execution_count": null,
   "id": "fdb8d624-a6b7-4f68-8014-4bc68d1a1ae2",
   "metadata": {},
   "outputs": [],
   "source": [
    "def shuffle_watermark_image(watermark_image):\n",
    "    np.random.seed(42)\n",
    "\n",
    "    wm_img_array = np.array(watermark_image) \n",
    "    shape = wm_img_array.shape\n",
    "\n",
    "    wm_img_array = wm_img_array.flatten()\n",
    "\n",
    "    indices = np.arange(wm_img_array.size)\n",
    "    i_n = np.random.permutation(indices)\n",
    "\n",
    "    shuffled_img_array = wm_img_array[i_n]\n",
    "\n",
    "    shuffled_image_array = shuffled_img_array.reshape(shape)\n",
    "    shuffled_image = Image.fromarray(shuffled_image_array)\n",
    "\n",
    "    return shuffled_image, i_n"
   ]
  },
  {
   "cell_type": "code",
   "execution_count": null,
   "id": "e163ca5a-36a6-4ebb-bbab-3aeb90032f6a",
   "metadata": {},
   "outputs": [],
   "source": [
    "shuffled_watermark, indices = shuffle_watermark_image(watermark_image)"
   ]
  },
  {
   "cell_type": "code",
   "execution_count": null,
   "id": "9865b5a4-a155-48a0-b00f-5eeed19cbfbc",
   "metadata": {},
   "outputs": [],
   "source": [
    "shuffled_watermark"
   ]
  },
  {
   "cell_type": "code",
   "execution_count": null,
   "id": "b5b94e7c-741a-4e07-aa69-2e522b5ff9e6",
   "metadata": {},
   "outputs": [],
   "source": [
    "np.array(shuffled_watermark)"
   ]
  },
  {
   "cell_type": "code",
   "execution_count": null,
   "id": "3f841066-dd5d-4d4b-a56f-ddb60350fa01",
   "metadata": {},
   "outputs": [],
   "source": [
    "def split_image_into_four(image):\n",
    "\n",
    "    width, height = image.size\n",
    "\n",
    "    mid_width = width // 2\n",
    "    mid_height = height // 2\n",
    "\n",
    "    ftl = image.crop((0, 0, mid_width, mid_height))  \n",
    "    ftr = image.crop((mid_width, 0, width, mid_height))  \n",
    "    fbl = image.crop((0, mid_height, mid_width, height)) \n",
    "    fbr = image.crop((mid_width, mid_height, width, height))\n",
    "\n",
    "    return ftl, ftr, fbl, fbr"
   ]
  },
  {
   "cell_type": "code",
   "execution_count": null,
   "id": "9ad03e1a-29fb-4452-9e0b-73c9ba5d7805",
   "metadata": {},
   "outputs": [],
   "source": [
    "def merge_image_from_four(ftl, ftr, fbl, fbr):\n",
    "    width, height = ftl.size\n",
    "    \n",
    "    merged_image = Image.new('L', (width * 2, height * 2))\n",
    "\n",
    "    merged_image.paste(ftl, (0, 0))  \n",
    "    merged_image.paste(ftr, (width, 0)) \n",
    "    merged_image.paste(fbl, (0, height))  \n",
    "    merged_image.paste(fbr, (width, height))\n",
    "\n",
    "    return merged_image"
   ]
  },
  {
   "cell_type": "code",
   "execution_count": null,
   "id": "85a4062f-1e75-474c-a076-cb90f4f872af",
   "metadata": {},
   "outputs": [],
   "source": [
    "import bisect\n",
    "\n",
    "def find_interval(sorted_array, x):\n",
    "    index = bisect.bisect_right(sorted_array, x)\n",
    "    return index"
   ]
  },
  {
   "cell_type": "code",
   "execution_count": null,
   "id": "a3d67e11-b794-4c61-a493-75f476d32372",
   "metadata": {},
   "outputs": [],
   "source": [
    "def reconstruct_image(blocks, original_indices, block_size):\n",
    "    reconstruct_image = np.zeros((512 // 2, 512 // 2))\n",
    "    for (U, D, Vt), (i,j) in zip(blocks, original_indices):\n",
    "        print(D[0])\n",
    "        D_matrix = np.diag(D)\n",
    "        r_b = np.dot(U, np.dot(D_matrix, Vt))\n",
    "        reconstruct_image[i:i+block_size,j: j+block_size] = r_b\n",
    "    return reconstruct_image"
   ]
  },
  {
   "cell_type": "code",
   "execution_count": null,
   "id": "e54b3969-080d-40e0-a0f9-bca5f31fccb4",
   "metadata": {},
   "outputs": [],
   "source": [
    "d_large = []\n",
    "d_new = []\n",
    "blocks = []\n",
    "def watermark_embedding_in_d_matrix(ftl, wm, block_size=8):\n",
    "    global d_large, d_new, blocks\n",
    "    original_indices = []\n",
    "    wm_array = np.array(wm) \n",
    "    wm_array = wm_array.flatten().astype('uint64')\n",
    "    ftl_arr = np.array(ftl)\n",
    "    #d_large = []\n",
    "    #blocks = []\n",
    "    for i in range(0, ftl_arr.shape[0], block_size):\n",
    "        for j in range(0, ftl_arr.shape[1], block_size):\n",
    "            block = ftl_arr[i:i+block_size, j:j+block_size]\n",
    "            U, D, V = np.linalg.svd(block)\n",
    "            d_large.append(D[0])\n",
    "            original_indices.append((i,j))\n",
    "            blocks.append((U, D, V))\n",
    "\n",
    "    T=60\n",
    "    d_max = max(d_large)\n",
    "    d_min = min(d_large)\n",
    "    ds = np.linspace(d_min-T, d_max + T)\n",
    "\n",
    "    #print(d_low)\n",
    "    #print(d_high)\n",
    "    bit_idx = 0\n",
    "    for d in d_large:\n",
    "        idx = find_interval(ds, d)\n",
    "        dlow = ds[idx-1]\n",
    "        dhigh = ds[idx]\n",
    "        print(f'Watermark bit {wm_array[bit_idx]}')\n",
    "        print(f'Donja granica {dlow}')\n",
    "        print(f'Gornja granica {dhigh}')\n",
    "        print(f'Singularna vrednosti{d}')\n",
    "        \n",
    "        if wm_array[bit_idx] == 1:\n",
    "            blocks[bit_idx][1][0] = (dlow + (dhigh + dlow)/2)/2\n",
    "            print('if')\n",
    "        else:\n",
    "            blocks[bit_idx][1][0] = (dhigh + (dhigh + dlow)/2)/2\n",
    "            print('else')\n",
    "        d_new.append(blocks[bit_idx][1][0])\n",
    "        bit_idx += 1\n",
    "        print('-------------------')\n",
    "\n",
    "    result = reconstruct_image(blocks, original_indices, 8)\n",
    "    return result"
   ]
  },
  {
   "cell_type": "code",
   "execution_count": null,
   "id": "17cd7029-92ff-4ba7-b720-b35dec8e2b7d",
   "metadata": {},
   "outputs": [],
   "source": [
    "def watermak_embedding(image, wm):\n",
    "    ftl, ftr, fbl, fbr = split_image_into_four(input_image)\n",
    "    \n",
    "    ftl_new = watermark_embedding_in_d_matrix(ftl, wm)\n",
    "    ftl_new = Image.fromarray(ftl_new)\n",
    "    ftl_new.show()\n",
    "    \n",
    "    #fbr_new = watermark_embedding_in_u_matrix(fbr, wm)\n",
    "    #fbr_new = Image.fromarray(fbr_new).convert('L')\n",
    "    #fbr_new.show()\n",
    "    \n",
    "    merged_image = merge_image_from_four(ftl_new, ftr, fbl, fbr)\n",
    "    merged_image.show()\n",
    "    merged_image.save('watermarked_image.png')\n",
    "    \n",
    "    return merged_image"
   ]
  },
  {
   "cell_type": "code",
   "execution_count": null,
   "id": "9e90bb5d-2dc6-4cb8-b84d-363b13ed5575",
   "metadata": {},
   "outputs": [],
   "source": [
    "ftl, ftr, fbl, fbr = split_image_into_four(input_image)"
   ]
  },
  {
   "cell_type": "code",
   "execution_count": null,
   "id": "5080f8b3-8845-4b11-bef3-5d6946e03ef4",
   "metadata": {},
   "outputs": [],
   "source": [
    "watermarked_image = watermak_embedding(input_image, watermark_image)"
   ]
  },
  {
   "cell_type": "code",
   "execution_count": null,
   "id": "5c145c90-29bc-41eb-a016-2615093bc9a7",
   "metadata": {},
   "outputs": [],
   "source": [
    "ftl_new, _, _, _ = split_image_into_four(watermarked_image)"
   ]
  },
  {
   "cell_type": "code",
   "execution_count": null,
   "id": "5ac3223e-4459-457a-aca8-0df6bf468e23",
   "metadata": {},
   "outputs": [],
   "source": [
    "np.array(ftl_new) == np.array(ftl)"
   ]
  },
  {
   "cell_type": "code",
   "execution_count": null,
   "id": "424dd8ec-7d50-4702-9b4a-35e549469a1b",
   "metadata": {},
   "outputs": [],
   "source": [
    "min(d_large)"
   ]
  },
  {
   "cell_type": "code",
   "execution_count": null,
   "id": "4f8e91ce-b527-4248-81c4-f6f404049d25",
   "metadata": {},
   "outputs": [],
   "source": [
    "max(d_large)"
   ]
  },
  {
   "cell_type": "code",
   "execution_count": null,
   "id": "7e166824-1deb-4068-bc90-bb6ff60ce1b6",
   "metadata": {},
   "outputs": [],
   "source": []
  },
  {
   "cell_type": "code",
   "execution_count": null,
   "id": "55a824a5-34af-466e-8cd2-7cbd0f8ee3f8",
   "metadata": {},
   "outputs": [],
   "source": [
    "T=60\n",
    "d_max = max(d_large)\n",
    "d_min = min(d_large)\n",
    "ds = np.linspace(d_min-T, d_max + T)"
   ]
  },
  {
   "cell_type": "code",
   "execution_count": null,
   "id": "2564d99b-ffb7-4ae2-8fec-71ae54cc4929",
   "metadata": {},
   "outputs": [],
   "source": [
    "d_new"
   ]
  },
  {
   "cell_type": "code",
   "execution_count": null,
   "id": "5d987be3-3ed5-4700-b60b-c2f7365f3fb1",
   "metadata": {},
   "outputs": [],
   "source": [
    "d_large"
   ]
  },
  {
   "cell_type": "code",
   "execution_count": null,
   "id": "1743ac63-0900-4580-bf6c-ec3683241e52",
   "metadata": {},
   "outputs": [],
   "source": [
    "def extract_watermark_from_d_matrix(ftl, watermark_size=(32, 32), block_size=8):\n",
    "    \n",
    "    ftl_arr = np.array(ftl)\n",
    "\n",
    "    extraxted_watermark = []\n",
    "    \n",
    "    for i in range(0, ftl_arr.shape[0], block_size):\n",
    "       for j in range(0, ftl_arr.shape[1], block_size):\n",
    "            block = ftl_arr[i:i+block_size, j:j+block_size]\n",
    "            U, D, Vt = np.linalg.svd(block)\n",
    "\n",
    "            d = D[0]\n",
    "            #print(d)\n",
    "            idx = find_interval(ds, d)\n",
    "            dh = ds[idx]\n",
    "            dl = ds[idx-1]\n",
    "            print(f'dhigh {dh}')\n",
    "            print(f'dlow {dl}')\n",
    "            print('-----------')\n",
    "\n",
    "            if  d < ((dl+dh)/2):\n",
    "                extraxted_watermark.append(1)\n",
    "                print('if')\n",
    "            else:\n",
    "                extraxted_watermark.append(0)\n",
    "                print('else')\n",
    "    extraxted_watermark_result = np.array(extraxted_watermark).reshape((32,32))\n",
    "    return extraxted_watermark_result"
   ]
  },
  {
   "cell_type": "code",
   "execution_count": null,
   "id": "e39031e1-8913-48a8-8dcb-c1e7bf6f1443",
   "metadata": {},
   "outputs": [],
   "source": [
    "res = extract_watermark_from_d_matrix(ftl_new)"
   ]
  },
  {
   "cell_type": "code",
   "execution_count": null,
   "id": "4e0c50f0-1068-49a4-b16b-cb5e74a137e1",
   "metadata": {},
   "outputs": [],
   "source": [
    "res"
   ]
  },
  {
   "cell_type": "code",
   "execution_count": null,
   "id": "acb316c3-19ee-40f7-b972-0c8d8e287f2d",
   "metadata": {},
   "outputs": [],
   "source": [
    "res2 = Image.fromarray(res.astype(np.uint8)*255)"
   ]
  },
  {
   "cell_type": "code",
   "execution_count": null,
   "id": "eb0ed3fd-b877-4329-b5ea-12e269ee8c5f",
   "metadata": {},
   "outputs": [],
   "source": [
    "res2.show()"
   ]
  }
 ],
 "metadata": {
  "kernelspec": {
   "display_name": "Python 3 (ipykernel)",
   "language": "python",
   "name": "python3"
  },
  "language_info": {
   "codemirror_mode": {
    "name": "ipython",
    "version": 3
   },
   "file_extension": ".py",
   "mimetype": "text/x-python",
   "name": "python",
   "nbconvert_exporter": "python",
   "pygments_lexer": "ipython3",
   "version": "3.12.2"
  }
 },
 "nbformat": 4,
 "nbformat_minor": 5
}
