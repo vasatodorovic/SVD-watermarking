{
 "cells": [
  {
   "cell_type": "code",
   "execution_count": 1,
   "id": "dc19cffb-6198-48f3-bec0-81746b8e5043",
   "metadata": {},
   "outputs": [],
   "source": [
    "import numpy as np\n",
    "from PIL import Image\n",
    "import matplotlib as plt\n",
    "from io import BytesIO\n",
    "from math import log10, sqrt"
   ]
  },
  {
   "cell_type": "code",
   "execution_count": 2,
   "id": "98a6b440-2e4f-4940-b248-f4054d638a6b",
   "metadata": {},
   "outputs": [],
   "source": [
    "def load_and_scale_images(image_path, watermark_path):\n",
    "    image = Image.open(image_path).convert('L')  \n",
    "    image = image.resize((512, 512))\n",
    "    \n",
    "    image_array = np.array(image)\n",
    "    \n",
    "    watermark = Image.open(watermark_path).convert('L')\n",
    "    watermark = watermark.resize((32, 32))\n",
    "    watermark_array = np.array(watermark) > 128\n",
    "    watermark = Image.fromarray(watermark_array)\n",
    "    \n",
    "    return image_array, watermark_array, image, watermark"
   ]
  },
  {
   "cell_type": "code",
   "execution_count": 3,
   "id": "8ee36287-4ecd-47e1-b938-1e901f45933f",
   "metadata": {},
   "outputs": [],
   "source": [
    "image_array,watermark_array,input_image, watermark_image=load_and_scale_images('lena.png','watermark_image.webp')"
   ]
  },
  {
   "cell_type": "code",
   "execution_count": 4,
   "id": "fdb8d624-a6b7-4f68-8014-4bc68d1a1ae2",
   "metadata": {},
   "outputs": [],
   "source": [
    "def shuffle_watermark_image(watermark_image):\n",
    "    np.random.seed(42)\n",
    "\n",
    "    wm_img_array = np.array(watermark_image) \n",
    "    shape = wm_img_array.shape\n",
    "\n",
    "    wm_img_array = wm_img_array.flatten()\n",
    "\n",
    "    indices = np.arange(wm_img_array.size)\n",
    "    i_n = np.random.permutation(indices)\n",
    "\n",
    "    shuffled_img_array = wm_img_array[i_n]\n",
    "\n",
    "    shuffled_image_array = shuffled_img_array.reshape(shape)\n",
    "    shuffled_image = Image.fromarray(shuffled_image_array)\n",
    "\n",
    "    return shuffled_image, i_n"
   ]
  },
  {
   "cell_type": "code",
   "execution_count": 5,
   "id": "bbb4a217-84d0-4802-9bf5-31c0c9dc7f15",
   "metadata": {},
   "outputs": [],
   "source": [
    "def unshuffle_watermark_image(shuffled_image, indices, seed=42):\n",
    "    np.random.seed(seed)\n",
    "\n",
    "    shuffled_img_array = np.array(shuffled_image) \n",
    "    shape = shuffled_img_array.shape\n",
    "\n",
    "    shuffled_img_array_flat = shuffled_img_array.flatten()\n",
    "\n",
    "    original_img_array = np.zeros_like(shuffled_img_array_flat)\n",
    "\n",
    "    inverse_indices = np.argsort(indices)\n",
    "\n",
    "    \n",
    "    original_img_array = shuffled_img_array_flat[inverse_indices]\n",
    "\n",
    "    original_image_array = original_img_array.reshape(shape)\n",
    "    original_image = Image.fromarray(original_image_array)\n",
    "\n",
    "    return original_image"
   ]
  },
  {
   "cell_type": "code",
   "execution_count": 6,
   "id": "e163ca5a-36a6-4ebb-bbab-3aeb90032f6a",
   "metadata": {},
   "outputs": [],
   "source": [
    "shuffled_watermark, indices = shuffle_watermark_image(watermark_image)"
   ]
  },
  {
   "cell_type": "code",
   "execution_count": 7,
   "id": "9865b5a4-a155-48a0-b00f-5eeed19cbfbc",
   "metadata": {},
   "outputs": [
    {
     "data": {
      "image/jpeg": "[encoded data removed]",
      "image/png": "[encoded data removed]",
      "text/plain": [
       "<PIL.Image.Image image mode=1 size=32x32>"
      ]
     },
     "execution_count": 7,
     "metadata": {},
     "output_type": "execute_result"
    }
   ],
   "source": [
    "shuffled_watermark"
   ]
  },
  {
   "cell_type": "code",
   "execution_count": 8,
   "id": "3f841066-dd5d-4d4b-a56f-ddb60350fa01",
   "metadata": {},
   "outputs": [],
   "source": [
    "def split_image_into_four(image):\n",
    "\n",
    "    width, height = image.size\n",
    "\n",
    "    mid_width = width // 2\n",
    "    mid_height = height // 2\n",
    "\n",
    "    ftl = image.crop((0, 0, mid_width, mid_height))  \n",
    "    ftr = image.crop((mid_width, 0, width, mid_height))  \n",
    "    fbl = image.crop((0, mid_height, mid_width, height)) \n",
    "    fbr = image.crop((mid_width, mid_height, width, height))\n",
    "\n",
    "    return ftl, ftr, fbl, fbr"
   ]
  },
  {
   "cell_type": "code",
   "execution_count": 9,
   "id": "9ad03e1a-29fb-4452-9e0b-73c9ba5d7805",
   "metadata": {},
   "outputs": [],
   "source": [
    "def merge_image_from_four(ftl, ftr, fbl, fbr):\n",
    "    width, height = ftl.size\n",
    "    \n",
    "    merged_image = Image.new('L', (width * 2, height * 2))\n",
    "\n",
    "    merged_image.paste(ftl, (0, 0))  \n",
    "    merged_image.paste(ftr, (width, 0)) \n",
    "    merged_image.paste(fbl, (0, height))  \n",
    "    merged_image.paste(fbr, (width, height))\n",
    "\n",
    "    return merged_image"
   ]
  },
  {
   "cell_type": "code",
   "execution_count": 10,
   "id": "85a4062f-1e75-474c-a076-cb90f4f872af",
   "metadata": {},
   "outputs": [],
   "source": [
    "import bisect\n",
    "\n",
    "def find_interval(sorted_array, x):\n",
    "    index = bisect.bisect_right(sorted_array, x)\n",
    "    return index"
   ]
  },
  {
   "cell_type": "code",
   "execution_count": 11,
   "id": "a3d67e11-b794-4c61-a493-75f476d32372",
   "metadata": {},
   "outputs": [],
   "source": [
    "def reconstruct_image(blocks, original_indices, block_size):\n",
    "    reconstruct_image = np.zeros((512 // 2, 512 // 2))\n",
    "    for (U, D, Vt), (i,j) in zip(blocks, original_indices):\n",
    "        #print(D[0])\n",
    "        D_matrix = np.diag(D)\n",
    "        r_b = np.dot(U, np.dot(D_matrix, Vt))\n",
    "        reconstruct_image[i:i+block_size,j: j+block_size] = r_b\n",
    "    return reconstruct_image"
   ]
  },
  {
   "cell_type": "code",
   "execution_count": 12,
   "id": "e54b3969-080d-40e0-a0f9-bca5f31fccb4",
   "metadata": {},
   "outputs": [],
   "source": [
    "d_large = []\n",
    "d_new = []\n",
    "blocks = []\n",
    "def watermark_embedding_in_d_matrix(ftl, wm, block_size=8):\n",
    "    global d_large, d_new, blocks\n",
    "    original_indices = []\n",
    "    wm_array = np.array(wm) \n",
    "    wm_array = wm_array.flatten().astype('uint64')\n",
    "    ftl_arr = np.array(ftl)\n",
    "    #d_large = []\n",
    "    #blocks = []\n",
    "    for i in range(0, ftl_arr.shape[0], block_size):\n",
    "        for j in range(0, ftl_arr.shape[1], block_size):\n",
    "            block = ftl_arr[i:i+block_size, j:j+block_size]\n",
    "            U, D, V = np.linalg.svd(block)\n",
    "            d_large.append(D[0])\n",
    "            original_indices.append((i,j))\n",
    "            blocks.append((U, D, V))\n",
    "\n",
    "    T=60\n",
    "    d_max = max(d_large)\n",
    "    d_min = min(d_large)\n",
    "    ds = np.linspace(d_min-T, d_max + T)\n",
    "\n",
    "    #print(d_low)\n",
    "    #print(d_high)\n",
    "    bit_idx = 0\n",
    "    for d in d_large:\n",
    "        idx = find_interval(ds, d)\n",
    "        dlow = ds[idx-1]\n",
    "        dhigh = ds[idx]\n",
    "        #print(f'Watermark bit {wm_array[bit_idx]}')\n",
    "        #print(f'Donja granica {dlow}')\n",
    "        #print(f'Gornja granica {dhigh}')\n",
    "        #print(f'Singularna vrednosti{d}')\n",
    "        \n",
    "        if wm_array[bit_idx] == 1:\n",
    "            blocks[bit_idx][1][0] = (dlow + (dhigh + dlow)/2)/2\n",
    "            #print('if')\n",
    "        else:\n",
    "            blocks[bit_idx][1][0] = (dhigh + (dhigh + dlow)/2)/2\n",
    "            #print('else')\n",
    "        d_new.append(blocks[bit_idx][1][0])\n",
    "        bit_idx += 1\n",
    "        #print('-------------------')\n",
    "\n",
    "    result = reconstruct_image(blocks, original_indices, 8)\n",
    "    return result"
   ]
  },
  {
   "cell_type": "code",
   "execution_count": 13,
   "id": "8a6581ea",
   "metadata": {},
   "outputs": [],
   "source": [
    "def watermark_embedding_in_u_matrix(fbr, wm, block_size=8, alpha=0.0):\n",
    "    fbr_arr = np.array(fbr)\n",
    "    wm_array = np.array(wm).flatten().astype('uint64')\n",
    "\n",
    "    original_indices = []\n",
    "    blocks = []\n",
    "    \n",
    "    for i in range(0, fbr_arr.shape[0], block_size):\n",
    "        for j in range(0, fbr_arr.shape[1], block_size):\n",
    "            block = fbr_arr[i:i+block_size, j:j+block_size]\n",
    "            U, D, V = np.linalg.svd(block)\n",
    "            original_indices.append((i,j))\n",
    "            blocks.append((U, D, V))\n",
    "\n",
    "    bit_idx = 0\n",
    "    for U, D, V in blocks:\n",
    "        u_diff = abs(U[0, 0]) - abs(U[1, 0])\n",
    "        \n",
    "        if (wm_array[bit_idx] == 1 and u_diff > alpha) or (wm_array[bit_idx]==0 and u_diff<alpha):\n",
    "            #print('1')\n",
    "            U[1,0]=-abs(abs(U[1,0])-(alpha-u_diff)/2)\n",
    "            U[0,0]=-abs(abs(U[0,0])+(alpha-u_diff)/2)\n",
    "        elif (wm_array[bit_idx] == 1 and u_diff < alpha) or (wm_array[bit_idx]==0 and u_diff>alpha):\n",
    "            U[1,0]=-abs(abs(U[1,0])-(alpha+u_diff)/2)\n",
    "            U[0,0]=-abs(abs(U[0,0])+(alpha+u_diff)/2)\n",
    "            #print('2')\n",
    "        bit_idx += 1\n",
    "\n",
    "    reconstructed_fbr = reconstruct_image(blocks, original_indices, block_size)\n",
    "    return reconstructed_fbr"
   ]
  },
  {
   "cell_type": "code",
   "execution_count": 14,
   "id": "17cd7029-92ff-4ba7-b720-b35dec8e2b7d",
   "metadata": {},
   "outputs": [],
   "source": [
    "def watermak_embedding(image, wm):\n",
    "    ftl, ftr, fbl, fbr = split_image_into_four(input_image)\n",
    "    \n",
    "    ftl_new = watermark_embedding_in_d_matrix(ftl, wm)\n",
    "    ftl_new = Image.fromarray(ftl_new)\n",
    "    ftl_new.show()\n",
    "    \n",
    "    fbr_new = watermark_embedding_in_u_matrix(fbr, wm)\n",
    "    fbr_new = Image.fromarray(fbr_new)\n",
    "    fbr_new.show()\n",
    "    \n",
    "    merged_image = merge_image_from_four(ftl_new, ftr, fbl, fbr_new)\n",
    "    merged_image.show()\n",
    "    merged_image.save('watermarked_image.png')\n",
    "    \n",
    "    return merged_image"
   ]
  },
  {
   "cell_type": "code",
   "execution_count": 15,
   "id": "5080f8b3-8845-4b11-bef3-5d6946e03ef4",
   "metadata": {},
   "outputs": [],
   "source": [
    "watermarked_image = watermak_embedding(input_image, shuffled_watermark)"
   ]
  },
  {
   "cell_type": "code",
   "execution_count": null,
   "id": "4324e039-f792-4de8-90ab-cd1d742e21f1",
   "metadata": {},
   "outputs": [],
   "source": []
  },
  {
   "cell_type": "code",
   "execution_count": 16,
   "id": "5c145c90-29bc-41eb-a016-2615093bc9a7",
   "metadata": {},
   "outputs": [],
   "source": [
    "ftl_new, _, _, fbr_new = split_image_into_four(watermarked_image)"
   ]
  },
  {
   "cell_type": "code",
   "execution_count": null,
   "id": "7e166824-1deb-4068-bc90-bb6ff60ce1b6",
   "metadata": {},
   "outputs": [],
   "source": []
  },
  {
   "cell_type": "code",
   "execution_count": 17,
   "id": "55a824a5-34af-466e-8cd2-7cbd0f8ee3f8",
   "metadata": {},
   "outputs": [],
   "source": [
    "T=60\n",
    "d_max = max(d_large)\n",
    "d_min = min(d_large)\n",
    "ds = np.linspace(d_min-T, d_max + T)"
   ]
  },
  {
   "cell_type": "code",
   "execution_count": 18,
   "id": "1743ac63-0900-4580-bf6c-ec3683241e52",
   "metadata": {},
   "outputs": [],
   "source": [
    "def extract_watermark_from_d_matrix(ftl, watermark_size=(32, 32), block_size=8):\n",
    "    \n",
    "    ftl_arr = np.array(ftl)\n",
    "\n",
    "    extraxted_watermark = []\n",
    "    \n",
    "    for i in range(0, ftl_arr.shape[0], block_size):\n",
    "        for j in range(0, ftl_arr.shape[1], block_size):\n",
    "            block = ftl_arr[i:i+block_size, j:j+block_size]\n",
    "            U, D, Vt = np.linalg.svd(block)\n",
    "\n",
    "            d = D[0]\n",
    "            #print(d)\n",
    "            idx = find_interval(ds, d)\n",
    "            dh = ds[idx]\n",
    "            dl = ds[idx-1]\n",
    "            #print(f'dhigh {dh}')\n",
    "            #print(f'dlow {dl}')\n",
    "            #print('-----------')\n",
    "\n",
    "            if  d < ((dl+dh)/2):\n",
    "                extraxted_watermark.append(1)\n",
    "                #print('if')\n",
    "            else:\n",
    "                extraxted_watermark.append(0)\n",
    "                #print('else')\n",
    "    extraxted_watermark_result = np.array(extraxted_watermark).reshape((32,32))\n",
    "    return extraxted_watermark_result"
   ]
  },
  {
   "cell_type": "code",
   "execution_count": 19,
   "id": "e39031e1-8913-48a8-8dcb-c1e7bf6f1443",
   "metadata": {},
   "outputs": [],
   "source": [
    "res = extract_watermark_from_d_matrix(ftl_new)"
   ]
  },
  {
   "cell_type": "code",
   "execution_count": 20,
   "id": "4e0c50f0-1068-49a4-b16b-cb5e74a137e1",
   "metadata": {},
   "outputs": [
    {
     "data": {
      "text/plain": [
       "array([[1, 1, 1, ..., 1, 1, 0],\n",
       "       [1, 1, 1, ..., 1, 0, 1],\n",
       "       [1, 1, 0, ..., 1, 1, 1],\n",
       "       ...,\n",
       "       [1, 0, 1, ..., 0, 1, 0],\n",
       "       [1, 1, 1, ..., 1, 1, 1],\n",
       "       [1, 1, 1, ..., 1, 0, 1]])"
      ]
     },
     "execution_count": 20,
     "metadata": {},
     "output_type": "execute_result"
    }
   ],
   "source": [
    "res"
   ]
  },
  {
   "cell_type": "code",
   "execution_count": 21,
   "id": "acb316c3-19ee-40f7-b972-0c8d8e287f2d",
   "metadata": {},
   "outputs": [],
   "source": [
    "watermark1_extracted = Image.fromarray(res.astype(np.uint8)*255)"
   ]
  },
  {
   "cell_type": "code",
   "execution_count": 22,
   "id": "7bf6c835-0fc7-4b55-8857-8c4a97c94d40",
   "metadata": {},
   "outputs": [
    {
     "data": {
      "image/jpeg": "[encoded data removed]",
      "image/png": "[encoded data removed]",
      "text/plain": [
       "<PIL.Image.Image image mode=L size=32x32>"
      ]
     },
     "execution_count": 22,
     "metadata": {},
     "output_type": "execute_result"
    }
   ],
   "source": [
    "watermark1_extracted"
   ]
  },
  {
   "cell_type": "code",
   "execution_count": 23,
   "id": "c0f59bcf-ce69-4f84-aa5e-7f6a134cd047",
   "metadata": {},
   "outputs": [],
   "source": [
    "original_watermark1_extracted = unshuffle_watermark_image(watermark1_extracted, indices)"
   ]
  },
  {
   "cell_type": "code",
   "execution_count": 24,
   "id": "eb0ed3fd-b877-4329-b5ea-12e269ee8c5f",
   "metadata": {},
   "outputs": [
    {
     "data": {
      "image/jpeg": "[encoded data removed]",
      "image/png": "[encoded data removed]",
      "text/plain": [
       "<PIL.Image.Image image mode=L size=32x32>"
      ]
     },
     "execution_count": 24,
     "metadata": {},
     "output_type": "execute_result"
    }
   ],
   "source": [
    "original_watermark1_extracted"
   ]
  },
  {
   "cell_type": "code",
   "execution_count": null,
   "id": "f93c9259-8232-4334-8152-ff402dab455c",
   "metadata": {},
   "outputs": [],
   "source": []
  },
  {
   "cell_type": "code",
   "execution_count": 25,
   "id": "61a83a77",
   "metadata": {},
   "outputs": [],
   "source": [
    "def extract_watermark_from_u_matrix(fbr, watermark_size=(32, 32), block_size=8):\n",
    "    fbr_arr = np.array(fbr)\n",
    "    extracted_watermark = []\n",
    "    \n",
    "    for i in range(0, fbr_arr.shape[0], block_size):\n",
    "        for j in range(0, fbr_arr.shape[1], block_size):\n",
    "            block = fbr_arr[i:i+block_size, j:j+block_size]\n",
    "            U, D, Vt = np.linalg.svd(block)\n",
    "\n",
    "            if abs(U[0,0])>abs(U[1,0]):\n",
    "                extracted_watermark.append(0)\n",
    "            else:\n",
    "                extracted_watermark.append(1)\n",
    "    \n",
    "    extracted_watermark = np.array(extracted_watermark).reshape(watermark_size)\n",
    "    return extracted_watermark\n"
   ]
  },
  {
   "cell_type": "code",
   "execution_count": 26,
   "id": "f1377629",
   "metadata": {},
   "outputs": [],
   "source": [
    "watermark2_fbr = extract_watermark_from_u_matrix(fbr_new)"
   ]
  },
  {
   "cell_type": "code",
   "execution_count": 27,
   "id": "c0628f72",
   "metadata": {},
   "outputs": [
    {
     "data": {
      "text/plain": [
       "array([[0, 0, 0, ..., 1, 1, 0],\n",
       "       [1, 1, 1, ..., 1, 0, 0],\n",
       "       [1, 1, 0, ..., 1, 1, 1],\n",
       "       ...,\n",
       "       [1, 0, 1, ..., 0, 1, 0],\n",
       "       [1, 1, 1, ..., 0, 1, 1],\n",
       "       [1, 1, 1, ..., 1, 0, 1]])"
      ]
     },
     "execution_count": 27,
     "metadata": {},
     "output_type": "execute_result"
    }
   ],
   "source": [
    "watermark2_fbr"
   ]
  },
  {
   "cell_type": "code",
   "execution_count": 28,
   "id": "2c1e760c",
   "metadata": {},
   "outputs": [],
   "source": [
    "watermark2_extracted = Image.fromarray(watermark2_fbr.astype(np.uint8)*255)"
   ]
  },
  {
   "cell_type": "code",
   "execution_count": 29,
   "id": "bbbea7e2",
   "metadata": {},
   "outputs": [
    {
     "data": {
      "image/jpeg": "[encoded data removed]",
      "image/png": "[encoded data removed]",
      "text/plain": [
       "<PIL.Image.Image image mode=L size=32x32>"
      ]
     },
     "execution_count": 29,
     "metadata": {},
     "output_type": "execute_result"
    }
   ],
   "source": [
    "watermark2_extracted"
   ]
  },
  {
   "cell_type": "code",
   "execution_count": 30,
   "id": "6f10b1e2",
   "metadata": {},
   "outputs": [],
   "source": [
    "original_watermark12_extracted = unshuffle_watermark_image(watermark2_extracted, indices)"
   ]
  },
  {
   "cell_type": "code",
   "execution_count": 31,
   "id": "1ffca330-3e86-4168-9370-2602b822f41e",
   "metadata": {},
   "outputs": [
    {
     "data": {
      "image/jpeg": "[encoded data removed]",
      "image/png": "[encoded data removed]",
      "text/plain": [
       "<PIL.Image.Image image mode=L size=32x32>"
      ]
     },
     "execution_count": 31,
     "metadata": {},
     "output_type": "execute_result"
    }
   ],
   "source": [
    "original_watermark12_extracted"
   ]
  },
  {
   "cell_type": "markdown",
   "id": "47a4e2b2-18b2-4e2f-808a-f42620eaa5a7",
   "metadata": {},
   "source": [
    "# Testing and Transformations"
   ]
  },
  {
   "cell_type": "code",
   "execution_count": 32,
   "id": "52457be0-ba8d-4379-bfad-ad90875d5d5d",
   "metadata": {},
   "outputs": [],
   "source": [
    "def compress_image(image, quality):\n",
    "    buffer = BytesIO()\n",
    "    image.save(buffer, format=\"JPEG\", quality=quality)\n",
    "    compressed_image = Image.open(buffer)\n",
    "    return compressed_image"
   ]
  },
  {
   "cell_type": "code",
   "execution_count": 33,
   "id": "fc7eee9e-fddf-4b13-8f9b-a88b374260a9",
   "metadata": {},
   "outputs": [],
   "source": [
    "def rotate_image(image, angle):\n",
    "    return image.rotate(angle, expand=False)"
   ]
  },
  {
   "cell_type": "code",
   "execution_count": 34,
   "id": "310adb72-db16-4f12-ac95-021053031641",
   "metadata": {},
   "outputs": [],
   "source": [
    "def psnr(original, compressed):\n",
    "    original = np.array(original)\n",
    "    compressed = np.array(compressed)\n",
    "    mse = np.mean((original - compressed) ** 2)\n",
    "    if mse == 0:  # slike su identične\n",
    "        return 100\n",
    "    max_pixel = 255.0\n",
    "    return 10 * log10(max_pixel ** 2 / mse)"
   ]
  },
  {
   "cell_type": "code",
   "execution_count": 35,
   "id": "ce5b59be-bdc7-4745-884a-9ca6203c9f2b",
   "metadata": {},
   "outputs": [],
   "source": [
    "def ber(original_watermark, extracted_watermark):\n",
    "    original_watermark = np.array(original_watermark).flatten()\n",
    "    extracted_watermark = np.array(extracted_watermark).flatten() > 128\n",
    "    total_bits = len(original_watermark)\n",
    "    error_bits = np.sum(original_watermark != extracted_watermark)\n",
    "    return error_bits / total_bits"
   ]
  },
  {
   "cell_type": "code",
   "execution_count": 36,
   "id": "251a62fb-caa6-4924-b5a6-038ff4d7fa56",
   "metadata": {},
   "outputs": [],
   "source": [
    "def nc(original_watermark, extracted_watermark):\n",
    "    original_watermark = np.array(original_watermark).flatten()\n",
    "    extracted_watermark = np.array(extracted_watermark).flatten()\n",
    "\n",
    "    numerator = np.sum(original_watermark * extracted_watermark)\n",
    "    denominator = np.sqrt(np.sum(original_watermark ** 2) * np.sum(extracted_watermark ** 2))\n",
    "    \n",
    "    if denominator == 0:\n",
    "        return 0\n",
    "    \n",
    "    return numerator / denominator"
   ]
  },
  {
   "cell_type": "code",
   "execution_count": 37,
   "id": "b3bf1689-638c-40f2-bffb-74590a49b949",
   "metadata": {},
   "outputs": [],
   "source": [
    "def normalize_watermark(watermark):\n",
    "    watermark = np.array(watermark)\n",
    "    max_val = np.max(watermark)\n",
    "    min_val = np.min(watermark)\n",
    "    \n",
    "    if max_val - min_val == 0:\n",
    "        return watermark  # Ako su sve vrednosti iste\n",
    "    \n",
    "    return (watermark - min_val) / (max_val - min_val)\n"
   ]
  },
  {
   "cell_type": "code",
   "execution_count": 38,
   "id": "f83b4246-67db-46d2-826c-10dd95f6da67",
   "metadata": {},
   "outputs": [],
   "source": [
    "compressed_image = compress_image(watermarked_image, 70)\n",
    "rotated_image = rotate_image(watermarked_image, 20)"
   ]
  },
  {
   "cell_type": "code",
   "execution_count": 39,
   "id": "05d9a341-9409-4249-a946-d80dce2b9545",
   "metadata": {},
   "outputs": [],
   "source": [
    "psnr_value_watermarking = psnr(input_image, watermarked_image)\n",
    "\n",
    "original_watermark1_extracted_normalized = normalize_watermark(original_watermark1_extracted)\n",
    "original_watermark12_extracted_normalized = normalize_watermark(original_watermark12_extracted)\n",
    "nc_value1 = nc(watermark_image, original_watermark1_extracted_normalized)\n",
    "nc_value2 = nc(watermark_image, original_watermark12_extracted_normalized)\n",
    "\n",
    "ber_value1 = ber(watermark_image, original_watermark1_extracted)\n",
    "ber_value2 = ber(watermark_image, original_watermark12_extracted)"
   ]
  },
  {
   "cell_type": "code",
   "execution_count": 40,
   "id": "6b7b8eff-0439-4d02-a1d9-08524ba32a53",
   "metadata": {},
   "outputs": [],
   "source": [
    "psnr_value_compress = psnr(input_image, compressed_image)\n",
    "psnr_value_rotate = psnr(input_image, rotated_image)"
   ]
  },
  {
   "cell_type": "code",
   "execution_count": 41,
   "id": "dcce00e9-f006-4664-b0b8-086efffce003",
   "metadata": {},
   "outputs": [],
   "source": [
    "ftl_compress, _, _ ,fbr_compress = split_image_into_four(compressed_image)\n",
    "\n",
    "watermark1_extracted_compress = extract_watermark_from_d_matrix(ftl_compress)\n",
    "watermark1_extracted_compress = Image.fromarray(watermark1_extracted_compress.astype(np.uint8)*255)\n",
    "watermark1_extracted_compress_original = unshuffle_watermark_image(watermark1_extracted_compress, indices)\n",
    "\n",
    "watermark2_extracted_compress = extract_watermark_from_u_matrix(fbr_compress)\n",
    "watermark2_extracted_compress = Image.fromarray(watermark2_extracted_compress.astype(np.uint8)*255)\n",
    "watermark2_extracted_compress_original = unshuffle_watermark_image(watermark2_extracted_compress, indices)\n",
    "\n",
    "ber1_value_compression = ber(watermark_image, watermark1_extracted_compress_original)\n",
    "ber2_value_compression = ber(watermark_image, watermark2_extracted_compress_original)\n",
    "\n",
    "normalized_watermark1 = normalize_watermark(watermark1_extracted_compress_original)\n",
    "normalized_watermark2 = normalize_watermark(watermark2_extracted_compress_original)\n",
    "\n",
    "nc1_value_compression = nc(watermark_image, normalized_watermark1)\n",
    "nc2_value_compression = nc(watermark_image, normalized_watermark2)"
   ]
  },
  {
   "cell_type": "code",
   "execution_count": 42,
   "id": "4db21870-94b8-4f2f-9015-beb53dbe9067",
   "metadata": {},
   "outputs": [
    {
     "data": {
      "image/jpeg": "[encoded data removed]",
      "image/png": "[encoded data removed]",
      "text/plain": [
       "<PIL.Image.Image image mode=L size=32x32>"
      ]
     },
     "execution_count": 42,
     "metadata": {},
     "output_type": "execute_result"
    }
   ],
   "source": [
    "watermark1_extracted_compress_original"
   ]
  },
  {
   "cell_type": "code",
   "execution_count": 43,
   "id": "b90bfe69-622f-4553-80db-8c55c7cfe7de",
   "metadata": {},
   "outputs": [
    {
     "data": {
      "image/jpeg": "[encoded data removed]",
      "image/png": "[encoded data removed]",
      "text/plain": [
       "<PIL.Image.Image image mode=L size=32x32>"
      ]
     },
     "execution_count": 43,
     "metadata": {},
     "output_type": "execute_result"
    }
   ],
   "source": [
    "watermark2_extracted_compress_original"
   ]
  },
  {
   "cell_type": "code",
   "execution_count": 44,
   "id": "21d14589-a8c9-4386-9f22-8332edb8b62c",
   "metadata": {},
   "outputs": [
    {
     "name": "stdout",
     "output_type": "stream",
     "text": [
      "PSNR after watermarking 47.81901275555902\n",
      "BER1 0.0\n",
      "BER2 0.15625\n",
      "NC1 1.0\n",
      "NC2 0.8918186632416427\n",
      "\n",
      "PSNR after watermarking and compresson: 37.46426574963655\n",
      "BER after compression and extraction from D matrixn 0.107421875\n",
      "BER after compression and extraction from U matrix 0.3525390625\n",
      "NC after compression and extraction from D matrix 0.9261481919632786\n",
      "NC after compression and extraction from U matrix 0.7448763666811418\n"
     ]
    }
   ],
   "source": [
    "\n",
    "print(f'PSNR after watermarking {psnr_value_watermarking}')\n",
    "print(f'BER1 {ber_value1}')\n",
    "print(f'BER2 {ber_value2}')\n",
    "print(f'NC1 {nc_value1}')\n",
    "print(f'NC2 {nc_value2}')\n",
    "\n",
    "print()\n",
    "\n",
    "print(f'PSNR after watermarking and compresson: {psnr_value_compress}')\n",
    "print(f'BER after compression and extraction from D matrixn {ber1_value_compression}')\n",
    "print(f'BER after compression and extraction from U matrix {ber2_value_compression}')\n",
    "print(f'NC after compression and extraction from D matrix {nc1_value_compression}')\n",
    "print(f'NC after compression and extraction from U matrix {nc2_value_compression}')\n"
   ]
  },
  {
   "cell_type": "markdown",
   "id": "2a25eb18-ec5d-431e-a82b-3864d3e7c0de",
   "metadata": {},
   "source": [
    "## PSNR (Peak Signal-to-Noise Ratio)\n",
    "- **PSNR after watermarking**: 47.82 dB\n",
    "  - Indicates very high image quality with minimal visual distortion due to watermarking.\n",
    "- **PSNR after watermarking and compression**: 37.46 dB\n",
    "  - The image quality is still acceptable after compression, though there is some degradation."
   ]
  },
  {
   "cell_type": "markdown",
   "id": "5cbf2efd-eac7-4083-ac48-fa9a83ca26bb",
   "metadata": {},
   "source": [
    "## BER (Bit Error Rate)\n",
    "- **BER1 after watermarking**: 0.0\n",
    "  - Perfect accuracy with no errors in watermark extraction.\n",
    "- **BER2 after watermarking**: 0.15625\n",
    "  - 15.625% of bits were incorrectly extracted, which is acceptable but not ideal.\n",
    "- **BER after compression and extraction**:\n",
    "  - **From D matrix**: 0.1074\n",
    "    - 10.74% of bits were incorrectly extracted, indicating good robustness against compression.\n",
    "  - **From U matrix**: 0.3525\n",
    "    - 35.25% of bits were incorrectly extracted, showing weaker robustness compared to the D matrix.\n"
   ]
  },
  {
   "cell_type": "markdown",
   "id": "02310b07-de5a-4c03-9c7d-6cd7443d1ef6",
   "metadata": {},
   "source": [
    "## NC (Normalized Cross-Correlation)\n",
    "- **NC1 after watermarking**: 1.0\n",
    "  - Perfect similarity between the original and extracted watermark.\n",
    "- **NC2 after watermarking**: 0.8918\n",
    "  - High similarity but not perfect, indicating some errors in the watermark extraction process.\n",
    "- **NC after compression and extraction**:\n",
    "  - **From D matrix**: 0.9261\n",
    "    - High similarity between the original and extracted watermark after compression, which is excellent.\n",
    "  - **From U matrix**: 0.7449\n",
    "    - Good similarity but lower than for the D matrix, suggesting the need for improvement in robustness for this matrix."
   ]
  }
 ],
 "metadata": {
  "kernelspec": {
   "display_name": "Python 3 (ipykernel)",
   "language": "python",
   "name": "python3"
  },
  "language_info": {
   "codemirror_mode": {
    "name": "ipython",
    "version": 3
   },
   "file_extension": ".py",
   "mimetype": "text/x-python",
   "name": "python",
   "nbconvert_exporter": "python",
   "pygments_lexer": "ipython3",
   "version": "3.12.2"
  }
 },
 "nbformat": 4,
 "nbformat_minor": 5
}
