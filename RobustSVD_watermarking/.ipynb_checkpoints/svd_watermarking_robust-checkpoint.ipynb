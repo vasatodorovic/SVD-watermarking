{
 "cells": [
  {
   "cell_type": "code",
   "execution_count": 427,
   "id": "dc19cffb-6198-48f3-bec0-81746b8e5043",
   "metadata": {},
   "outputs": [],
   "source": [
    "import numpy as np\n",
    "from PIL import Image\n",
    "import matplotlib as plt"
   ]
  },
  {
   "cell_type": "code",
   "execution_count": 428,
   "id": "98a6b440-2e4f-4940-b248-f4054d638a6b",
   "metadata": {},
   "outputs": [],
   "source": [
    "def load_and_scale_images(image_path, watermark_path):\n",
    "    image = Image.open(image_path).convert('L')  \n",
    "    image = image.resize((512, 512))\n",
    "    \n",
    "    image_array = np.array(image)\n",
    "    \n",
    "    watermark = Image.open(watermark_path).convert('L')\n",
    "    watermark = watermark.resize((32, 32))\n",
    "    watermark_array = np.array(watermark) > 128\n",
    "    watermark = Image.fromarray(watermark_array)\n",
    "    \n",
    "    return image_array, watermark_array, image, watermark"
   ]
  },
  {
   "cell_type": "code",
   "execution_count": 429,
   "id": "8ee36287-4ecd-47e1-b938-1e901f45933f",
   "metadata": {},
   "outputs": [],
   "source": [
    "image_array,watermark_array,input_image, watermark_image=load_and_scale_images('lena.png','watermark_image.webp')"
   ]
  },
  {
   "cell_type": "code",
   "execution_count": 430,
   "id": "fdb8d624-a6b7-4f68-8014-4bc68d1a1ae2",
   "metadata": {},
   "outputs": [],
   "source": [
    "def shuffle_watermark_image(watermark_image):\n",
    "    np.random.seed(42)\n",
    "\n",
    "    wm_img_array = np.array(watermark_image) \n",
    "    shape = wm_img_array.shape\n",
    "\n",
    "    wm_img_array = wm_img_array.flatten()\n",
    "\n",
    "    indices = np.arange(wm_img_array.size)\n",
    "    i_n = np.random.permutation(indices)\n",
    "\n",
    "    shuffled_img_array = wm_img_array[i_n]\n",
    "\n",
    "    shuffled_image_array = shuffled_img_array.reshape(shape)\n",
    "    shuffled_image = Image.fromarray(shuffled_image_array)\n",
    "\n",
    "    return shuffled_image, i_n"
   ]
  },
  {
   "cell_type": "code",
   "execution_count": 431,
   "id": "e163ca5a-36a6-4ebb-bbab-3aeb90032f6a",
   "metadata": {},
   "outputs": [],
   "source": [
    "shuffled_watermark, indices = shuffle_watermark_image(watermark_image)"
   ]
  },
  {
   "cell_type": "code",
   "execution_count": 432,
   "id": "9865b5a4-a155-48a0-b00f-5eeed19cbfbc",
   "metadata": {},
   "outputs": [
    {
     "data": {
      "image/png": "[encoded data removed]",
      "text/plain": [
       "<PIL.Image.Image image mode=1 size=32x32 at 0x288C3318FD0>"
      ]
     },
     "execution_count": 432,
     "metadata": {},
     "output_type": "execute_result"
    }
   ],
   "source": [
    "shuffled_watermark"
   ]
  },
  {
   "cell_type": "code",
   "execution_count": 433,
   "id": "b5b94e7c-741a-4e07-aa69-2e522b5ff9e6",
   "metadata": {},
   "outputs": [
    {
     "data": {
      "text/plain": [
       "array([[ True,  True,  True, ...,  True,  True, False],\n",
       "       [ True,  True,  True, ...,  True, False,  True],\n",
       "       [ True,  True, False, ...,  True,  True,  True],\n",
       "       ...,\n",
       "       [ True, False,  True, ..., False,  True, False],\n",
       "       [ True,  True,  True, ...,  True,  True,  True],\n",
       "       [ True,  True,  True, ...,  True, False,  True]])"
      ]
     },
     "execution_count": 433,
     "metadata": {},
     "output_type": "execute_result"
    }
   ],
   "source": [
    "np.array(shuffled_watermark)"
   ]
  },
  {
   "cell_type": "code",
   "execution_count": 434,
   "id": "3f841066-dd5d-4d4b-a56f-ddb60350fa01",
   "metadata": {},
   "outputs": [],
   "source": [
    "def split_image_into_four(image):\n",
    "\n",
    "    width, height = image.size\n",
    "\n",
    "    mid_width = width // 2\n",
    "    mid_height = height // 2\n",
    "\n",
    "    ftl = image.crop((0, 0, mid_width, mid_height))  \n",
    "    ftr = image.crop((mid_width, 0, width, mid_height))  \n",
    "    fbl = image.crop((0, mid_height, mid_width, height)) \n",
    "    fbr = image.crop((mid_width, mid_height, width, height))\n",
    "\n",
    "    return ftl, ftr, fbl, fbr"
   ]
  },
  {
   "cell_type": "code",
   "execution_count": 435,
   "id": "9ad03e1a-29fb-4452-9e0b-73c9ba5d7805",
   "metadata": {},
   "outputs": [],
   "source": [
    "def merge_image_from_four(ftl, ftr, fbl, fbr):\n",
    "    width, height = ftl.size\n",
    "    \n",
    "    merged_image = Image.new('L', (width * 2, height * 2))\n",
    "\n",
    "    merged_image.paste(ftl, (0, 0))  \n",
    "    merged_image.paste(ftr, (width, 0)) \n",
    "    merged_image.paste(fbl, (0, height))  \n",
    "    merged_image.paste(fbr, (width, height))\n",
    "\n",
    "    return merged_image"
   ]
  },
  {
   "cell_type": "code",
   "execution_count": 436,
   "id": "85a4062f-1e75-474c-a076-cb90f4f872af",
   "metadata": {},
   "outputs": [],
   "source": [
    "import bisect\n",
    "\n",
    "def find_interval(sorted_array, x):\n",
    "    index = bisect.bisect_right(sorted_array, x)\n",
    "    return index"
   ]
  },
  {
   "cell_type": "code",
   "execution_count": 437,
   "id": "a3d67e11-b794-4c61-a493-75f476d32372",
   "metadata": {},
   "outputs": [],
   "source": [
    "def reconstruct_image(blocks, original_indices, block_size):\n",
    "    reconstruct_image = np.zeros((512 // 2, 512 // 2))\n",
    "    for (U, D, Vt), (i,j) in zip(blocks, original_indices):\n",
    "        #print(D[0])\n",
    "        D_matrix = np.diag(D)\n",
    "        r_b = np.dot(U, np.dot(D_matrix, Vt))\n",
    "        reconstruct_image[i:i+block_size,j: j+block_size] = r_b\n",
    "    return reconstruct_image"
   ]
  },
  {
   "cell_type": "code",
   "execution_count": 438,
   "id": "e54b3969-080d-40e0-a0f9-bca5f31fccb4",
   "metadata": {},
   "outputs": [],
   "source": [
    "d_large = []\n",
    "d_new = []\n",
    "blocks = []\n",
    "def watermark_embedding_in_d_matrix(ftl, wm, block_size=8):\n",
    "    global d_large, d_new, blocks\n",
    "    original_indices = []\n",
    "    wm_array = np.array(wm) \n",
    "    wm_array = wm_array.flatten().astype('uint64')\n",
    "    ftl_arr = np.array(ftl)\n",
    "    #d_large = []\n",
    "    #blocks = []\n",
    "    for i in range(0, ftl_arr.shape[0], block_size):\n",
    "        for j in range(0, ftl_arr.shape[1], block_size):\n",
    "            block = ftl_arr[i:i+block_size, j:j+block_size]\n",
    "            U, D, V = np.linalg.svd(block)\n",
    "            d_large.append(D[0])\n",
    "            original_indices.append((i,j))\n",
    "            blocks.append((U, D, V))\n",
    "\n",
    "    T=60\n",
    "    d_max = max(d_large)\n",
    "    d_min = min(d_large)\n",
    "    ds = np.linspace(d_min-T, d_max + T)\n",
    "\n",
    "    #print(d_low)\n",
    "    #print(d_high)\n",
    "    bit_idx = 0\n",
    "    for d in d_large:\n",
    "        idx = find_interval(ds, d)\n",
    "        dlow = ds[idx-1]\n",
    "        dhigh = ds[idx]\n",
    "        #print(f'Watermark bit {wm_array[bit_idx]}')\n",
    "        #print(f'Donja granica {dlow}')\n",
    "        #print(f'Gornja granica {dhigh}')\n",
    "        #print(f'Singularna vrednosti{d}')\n",
    "        \n",
    "        if wm_array[bit_idx] == 1:\n",
    "            blocks[bit_idx][1][0] = (dlow + (dhigh + dlow)/2)/2\n",
    "            #print('if')\n",
    "        else:\n",
    "            blocks[bit_idx][1][0] = (dhigh + (dhigh + dlow)/2)/2\n",
    "            #print('else')\n",
    "        d_new.append(blocks[bit_idx][1][0])\n",
    "        bit_idx += 1\n",
    "        #print('-------------------')\n",
    "\n",
    "    result = reconstruct_image(blocks, original_indices, 8)\n",
    "    return result"
   ]
  },
  {
   "cell_type": "code",
   "execution_count": 439,
   "id": "8a6581ea",
   "metadata": {},
   "outputs": [],
   "source": [
    "def watermark_embedding_in_u_matrix(fbr, wm, block_size=8, alpha=0.0):\n",
    "    fbr_arr = np.array(fbr)\n",
    "    wm_array = np.array(wm).flatten().astype('uint64')\n",
    "\n",
    "    original_indices = []\n",
    "    blocks = []\n",
    "    \n",
    "    for i in range(0, fbr_arr.shape[0], block_size):\n",
    "        for j in range(0, fbr_arr.shape[1], block_size):\n",
    "            block = fbr_arr[i:i+block_size, j:j+block_size]\n",
    "            U, D, V = np.linalg.svd(block)\n",
    "            original_indices.append((i,j))\n",
    "            blocks.append((U, D, V))\n",
    "\n",
    "    bit_idx = 0\n",
    "    for U, D, V in blocks:\n",
    "        u_diff = abs(U[0, 0]) - abs(U[1, 0])\n",
    "        \n",
    "        if (wm_array[bit_idx] == 1 and u_diff > alpha) or (wm_array[bit_idx]==0 and u_diff<alpha):\n",
    "            #print('1')\n",
    "            U[1,0]=-abs(abs(U[1,0])-(alpha-u_diff)/2)\n",
    "            U[0,0]=-abs(abs(U[0,0])+(alpha-u_diff)/2)\n",
    "        elif (wm_array[bit_idx] == 1 and u_diff < alpha) or (wm_array[bit_idx]==0 and u_diff>alpha):\n",
    "            U[1,0]=-abs(abs(U[1,0])-(alpha+u_diff)/2)\n",
    "            U[0,0]=-abs(abs(U[0,0])+(alpha+u_diff)/2)\n",
    "            #print('2')\n",
    "        bit_idx += 1\n",
    "\n",
    "    reconstructed_fbr = reconstruct_image(blocks, original_indices, block_size)\n",
    "    return reconstructed_fbr"
   ]
  },
  {
   "cell_type": "code",
   "execution_count": 440,
   "id": "17cd7029-92ff-4ba7-b720-b35dec8e2b7d",
   "metadata": {},
   "outputs": [],
   "source": [
    "def watermak_embedding(image, wm):\n",
    "    ftl, ftr, fbl, fbr = split_image_into_four(input_image)\n",
    "    \n",
    "    ftl_new = watermark_embedding_in_d_matrix(ftl, wm)\n",
    "    ftl_new = Image.fromarray(ftl_new)\n",
    "    ftl_new.show()\n",
    "    \n",
    "    fbr_new = watermark_embedding_in_u_matrix(fbr, wm)\n",
    "    fbr_new = Image.fromarray(fbr_new)\n",
    "    fbr_new.show()\n",
    "    \n",
    "    merged_image = merge_image_from_four(ftl_new, ftr, fbl, fbr_new)\n",
    "    merged_image.show()\n",
    "    merged_image.save('watermarked_image.png')\n",
    "    \n",
    "    return merged_image"
   ]
  },
  {
   "cell_type": "code",
   "execution_count": 441,
   "id": "9e90bb5d-2dc6-4cb8-b84d-363b13ed5575",
   "metadata": {},
   "outputs": [],
   "source": [
    "#ftl, ftr, fbl, fbr = split_image_into_four(input_image)"
   ]
  },
  {
   "cell_type": "code",
   "execution_count": 442,
   "id": "5080f8b3-8845-4b11-bef3-5d6946e03ef4",
   "metadata": {},
   "outputs": [],
   "source": [
    "watermarked_image = watermak_embedding(input_image, watermark_image)"
   ]
  },
  {
   "cell_type": "code",
   "execution_count": 443,
   "id": "5c145c90-29bc-41eb-a016-2615093bc9a7",
   "metadata": {},
   "outputs": [],
   "source": [
    "ftl_new, _, _, fbr_new = split_image_into_four(watermarked_image)"
   ]
  },
  {
   "cell_type": "code",
   "execution_count": 444,
   "id": "5ac3223e-4459-457a-aca8-0df6bf468e23",
   "metadata": {},
   "outputs": [],
   "source": [
    "#np.array(ftl_new) == np.array(ftl)"
   ]
  },
  {
   "cell_type": "code",
   "execution_count": 445,
   "id": "424dd8ec-7d50-4702-9b4a-35e549469a1b",
   "metadata": {},
   "outputs": [],
   "source": [
    "#min(d_large)"
   ]
  },
  {
   "cell_type": "code",
   "execution_count": 446,
   "id": "4f8e91ce-b527-4248-81c4-f6f404049d25",
   "metadata": {},
   "outputs": [],
   "source": [
    "#max(d_large)"
   ]
  },
  {
   "cell_type": "code",
   "execution_count": null,
   "id": "7e166824-1deb-4068-bc90-bb6ff60ce1b6",
   "metadata": {},
   "outputs": [],
   "source": []
  },
  {
   "cell_type": "code",
   "execution_count": 447,
   "id": "55a824a5-34af-466e-8cd2-7cbd0f8ee3f8",
   "metadata": {},
   "outputs": [],
   "source": [
    "#T=60\n",
    "#d_max = max(d_large)\n",
    "#d_min = min(d_large)\n",
    "#ds = np.linspace(d_min-T, d_max + T)"
   ]
  },
  {
   "cell_type": "code",
   "execution_count": 448,
   "id": "2564d99b-ffb7-4ae2-8fec-71ae54cc4929",
   "metadata": {},
   "outputs": [],
   "source": [
    "#d_new"
   ]
  },
  {
   "cell_type": "code",
   "execution_count": 449,
   "id": "5d987be3-3ed5-4700-b60b-c2f7365f3fb1",
   "metadata": {},
   "outputs": [],
   "source": [
    "#d_large"
   ]
  },
  {
   "cell_type": "code",
   "execution_count": 450,
   "id": "1743ac63-0900-4580-bf6c-ec3683241e52",
   "metadata": {},
   "outputs": [],
   "source": [
    "def extract_watermark_from_d_matrix(ftl, watermark_size=(32, 32), block_size=8):\n",
    "    \n",
    "    ftl_arr = np.array(ftl)\n",
    "\n",
    "    extraxted_watermark = []\n",
    "    \n",
    "    for i in range(0, ftl_arr.shape[0], block_size):\n",
    "        for j in range(0, ftl_arr.shape[1], block_size):\n",
    "            block = ftl_arr[i:i+block_size, j:j+block_size]\n",
    "            U, D, Vt = np.linalg.svd(block)\n",
    "\n",
    "            d = D[0]\n",
    "            #print(d)\n",
    "            idx = find_interval(ds, d)\n",
    "            dh = ds[idx]\n",
    "            dl = ds[idx-1]\n",
    "            #print(f'dhigh {dh}')\n",
    "            #print(f'dlow {dl}')\n",
    "            #print('-----------')\n",
    "\n",
    "            if  d < ((dl+dh)/2):\n",
    "                extraxted_watermark.append(1)\n",
    "                #print('if')\n",
    "            else:\n",
    "                extraxted_watermark.append(0)\n",
    "                #print('else')\n",
    "    extraxted_watermark_result = np.array(extraxted_watermark).reshape((32,32))\n",
    "    return extraxted_watermark_result"
   ]
  },
  {
   "cell_type": "code",
   "execution_count": 451,
   "id": "e39031e1-8913-48a8-8dcb-c1e7bf6f1443",
   "metadata": {},
   "outputs": [],
   "source": [
    "res = extract_watermark_from_d_matrix(ftl_new)"
   ]
  },
  {
   "cell_type": "code",
   "execution_count": 452,
   "id": "4e0c50f0-1068-49a4-b16b-cb5e74a137e1",
   "metadata": {},
   "outputs": [
    {
     "data": {
      "text/plain": [
       "array([[1, 1, 1, ..., 1, 1, 1],\n",
       "       [1, 1, 1, ..., 1, 1, 1],\n",
       "       [1, 1, 1, ..., 1, 1, 1],\n",
       "       ...,\n",
       "       [1, 1, 1, ..., 1, 1, 1],\n",
       "       [1, 1, 1, ..., 1, 1, 1],\n",
       "       [1, 1, 1, ..., 1, 1, 1]])"
      ]
     },
     "execution_count": 452,
     "metadata": {},
     "output_type": "execute_result"
    }
   ],
   "source": [
    "res"
   ]
  },
  {
   "cell_type": "code",
   "execution_count": 453,
   "id": "acb316c3-19ee-40f7-b972-0c8d8e287f2d",
   "metadata": {},
   "outputs": [],
   "source": [
    "res2 = Image.fromarray(res.astype(np.uint8)*255)"
   ]
  },
  {
   "cell_type": "code",
   "execution_count": 454,
   "id": "eb0ed3fd-b877-4329-b5ea-12e269ee8c5f",
   "metadata": {},
   "outputs": [],
   "source": [
    "res2.show()"
   ]
  },
  {
   "cell_type": "code",
   "execution_count": 460,
   "id": "61a83a77",
   "metadata": {},
   "outputs": [],
   "source": [
    "def extract_watermark_from_u_matrix(fbr, watermark_size=(32, 32), block_size=8):\n",
    "    fbr_arr = np.array(fbr)\n",
    "    extracted_watermark = []\n",
    "    \n",
    "    for i in range(0, fbr_arr.shape[0], block_size):\n",
    "        for j in range(0, fbr_arr.shape[1], block_size):\n",
    "            block = fbr_arr[i:i+block_size, j:j+block_size]\n",
    "            U, D, Vt = np.linalg.svd(block)\n",
    "\n",
    "            if abs(U[0,0])>abs(U[1,0]):\n",
    "                extracted_watermark.append(0)\n",
    "            else:\n",
    "                extracted_watermark.append(1)\n",
    "    \n",
    "    extracted_watermark = np.array(extracted_watermark).reshape(watermark_size)\n",
    "    return extracted_watermark\n"
   ]
  },
  {
   "cell_type": "code",
   "execution_count": 461,
   "id": "f1377629",
   "metadata": {},
   "outputs": [],
   "source": [
    "watermark2_fbr = extract_watermark_from_u_matrix(fbr_new)"
   ]
  },
  {
   "cell_type": "code",
   "execution_count": 462,
   "id": "c0628f72",
   "metadata": {},
   "outputs": [
    {
     "data": {
      "text/plain": [
       "array([[0, 0, 0, ..., 1, 1, 0],\n",
       "       [1, 1, 1, ..., 1, 1, 0],\n",
       "       [1, 1, 1, ..., 1, 1, 1],\n",
       "       ...,\n",
       "       [1, 1, 1, ..., 1, 1, 1],\n",
       "       [1, 1, 1, ..., 0, 1, 1],\n",
       "       [1, 1, 1, ..., 1, 1, 1]])"
      ]
     },
     "execution_count": 462,
     "metadata": {},
     "output_type": "execute_result"
    }
   ],
   "source": [
    "watermark2_fbr"
   ]
  },
  {
   "cell_type": "code",
   "execution_count": 463,
   "id": "2c1e760c",
   "metadata": {},
   "outputs": [],
   "source": [
    "watermark2_extracted = Image.fromarray(watermark2_fbr.astype(np.uint8)*255)"
   ]
  },
  {
   "cell_type": "code",
   "execution_count": 465,
   "id": "bbbea7e2",
   "metadata": {},
   "outputs": [
    {
     "data": {
      "image/png": "[encoded data removed]",
      "text/plain": [
       "<PIL.Image.Image image mode=L size=32x32 at 0x288C3A04730>"
      ]
     },
     "execution_count": 465,
     "metadata": {},
     "output_type": "execute_result"
    }
   ],
   "source": [
    "watermark2_extracted"
   ]
  },
  {
   "cell_type": "code",
   "execution_count": null,
   "id": "6f10b1e2",
   "metadata": {},
   "outputs": [],
   "source": []
  }
 ],
 "metadata": {
  "kernelspec": {
   "display_name": "Python 3 (ipykernel)",
   "language": "python",
   "name": "python3"
  },
  "language_info": {
   "codemirror_mode": {
    "name": "ipython",
    "version": 3
   },
   "file_extension": ".py",
   "mimetype": "text/x-python",
   "name": "python",
   "nbconvert_exporter": "python",
   "pygments_lexer": "ipython3",
   "version": "3.10.3"
  }
 },
 "nbformat": 4,
 "nbformat_minor": 5
}
